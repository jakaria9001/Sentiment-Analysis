{
 "cells": [
  {
   "cell_type": "code",
   "execution_count": 1,
   "metadata": {},
   "outputs": [],
   "source": [
    "import nltk  # Natual Language Tool Kit"
   ]
  },
  {
   "cell_type": "code",
   "execution_count": 2,
   "metadata": {},
   "outputs": [
    {
     "data": {
      "text/plain": [
       "'People or collectors interested in antique furniture reflect their aesthetic tastes and passion for these age old things.\\n'"
      ]
     },
     "execution_count": 2,
     "metadata": {},
     "output_type": "execute_result"
    }
   ],
   "source": [
    "data = open('E:\\\\BTech 6th Sem\\\\NLP\\\\Lab\\\\L4-12-02-21\\\\file1.txt', encoding='utf-8')\n",
    "\n",
    "input_text = data.readlines()\n",
    "input_text[4]"
   ]
  },
  {
   "cell_type": "code",
   "execution_count": 3,
   "metadata": {},
   "outputs": [
    {
     "name": "stdout",
     "output_type": "stream",
     "text": [
      "﻿The dishes of Gujarat are not very spicy and sweet than those of the neighboring states.\n",
      "\n",
      "Stemmed Sentence:\n",
      "\n",
      "﻿the dish of gujarat are not veri spici and sweet than those of the neighbor state . \n"
     ]
    }
   ],
   "source": [
    "from nltk.stem import PorterStemmer\n",
    "from nltk.tokenize import word_tokenize, sent_tokenize\n",
    "\n",
    "porter = PorterStemmer()\n",
    "# Stemming sentence wise:\n",
    "def stemSentence(sent):\n",
    "    tokens = word_tokenize(sent)\n",
    "    tokens\n",
    "    stem_line = []\n",
    "    for word in tokens:\n",
    "        stem_line.append(porter.stem(word))\n",
    "        stem_line.append(' ')\n",
    "    return \"\".join(stem_line)\n",
    "\n",
    "\n",
    "print(input_text[0])\n",
    "print(\"Stemmed Sentence:\\n\")\n",
    "print(stemSentence(input_text[0]))"
   ]
  },
  {
   "cell_type": "code",
   "execution_count": 4,
   "metadata": {},
   "outputs": [],
   "source": [
    "stem_file=open('E:\\\\BTech 6th Sem\\\\NLP\\\\Lab\\\\L4-12-02-21\\\\file1_stem.txt',mode=\"a+\", encoding=\"utf-8\")\n",
    "for sentence in input_text:\n",
    "    stem = stemSentence(sentence)    \n",
    "    stem_file.write(stem)\n",
    "\n",
    "stem_file.close()"
   ]
  },
  {
   "cell_type": "code",
   "execution_count": null,
   "metadata": {},
   "outputs": [],
   "source": []
  },
  {
   "cell_type": "code",
   "execution_count": null,
   "metadata": {},
   "outputs": [],
   "source": [
    "                                            ######### **Thanks** ########"
   ]
  }
 ],
 "metadata": {
  "kernelspec": {
   "display_name": "Python 3",
   "language": "python",
   "name": "python3"
  },
  "language_info": {
   "codemirror_mode": {
    "name": "ipython",
    "version": 3
   },
   "file_extension": ".py",
   "mimetype": "text/x-python",
   "name": "python",
   "nbconvert_exporter": "python",
   "pygments_lexer": "ipython3",
   "version": "3.8.3"
  }
 },
 "nbformat": 4,
 "nbformat_minor": 4
}
