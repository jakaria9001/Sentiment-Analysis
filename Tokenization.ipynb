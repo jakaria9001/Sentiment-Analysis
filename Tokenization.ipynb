{
 "cells": [
  {
   "cell_type": "code",
   "execution_count": 41,
   "metadata": {},
   "outputs": [
    {
     "name": "stdout",
     "output_type": "stream",
     "text": [
      "Requirement already satisfied: nltk in c:\\python39\\lib\\site-packages (3.5)\n"
     ]
    },
    {
     "name": "stderr",
     "output_type": "stream",
     "text": [
      "WARNING: You are using pip version 20.2.3; however, version 21.0 is available.\n",
      "You should consider upgrading via the 'c:\\python39\\python.exe -m pip install --upgrade pip' command.\n"
     ]
    },
    {
     "name": "stdout",
     "output_type": "stream",
     "text": [
      "Requirement already satisfied: click in c:\\python39\\lib\\site-packages (from nltk) (7.1.2)\n",
      "Requirement already satisfied: joblib in c:\\python39\\lib\\site-packages (from nltk) (1.0.0)\n",
      "Requirement already satisfied: regex in c:\\python39\\lib\\site-packages (from nltk) (2020.11.13)\n",
      "Requirement already satisfied: tqdm in c:\\python39\\lib\\site-packages (from nltk) (4.56.0)\n"
     ]
    }
   ],
   "source": [
    "!pip install nltk\n",
    "\n",
    "# import nltk\n",
    "\n",
    "text = '''Hello Mr. Smith, how are you doing today? The weather is great, and\n",
    "Python is awesome. The sky is pinkish-blue. You shouldn't eat\n",
    "cardboard. He did an M.B.A from IIM Bangalore.'''"
   ]
  },
  {
   "cell_type": "code",
   "execution_count": 5,
   "metadata": {},
   "outputs": [
    {
     "name": "stdout",
     "output_type": "stream",
     "text": [
      "Using nltk, inbuilt python library: \n",
      "\n",
      "['Hello Mr. Smith, how are you doing today?', 'The weather is great, and\\nPython is awesome.', 'The sky is pinkish-blue.', \"You shouldn't eat\\ncardboard.\", 'He did an M.B.A from IIM Bangalore.']\n",
      "\n",
      "\n",
      "['Hello', 'Mr.', 'Smith', ',', 'how', 'are', 'you', 'doing', 'today', '?', 'The', 'weather', 'is', 'great', ',', 'and', 'Python', 'is', 'awesome', '.', 'The', 'sky', 'is', 'pinkish-blue', '.', 'You', 'should', \"n't\", 'eat', 'cardboard', '.', 'He', 'did', 'an', 'M.B.A', 'from', 'IIM', 'Bangalore', '.']\n"
     ]
    }
   ],
   "source": [
    "from nltk.tokenize import word_tokenize, sent_tokenize\n",
    "\n",
    "print('Using nltk, inbuilt python library: \\n')\n",
    "# Sentance tokenization:\n",
    "print(sent_tokenize(text))\n",
    "print('\\n')\n",
    "# Word tokenization:\n",
    "print(word_tokenize(text))"
   ]
  },
  {
   "cell_type": "code",
   "execution_count": 44,
   "metadata": {},
   "outputs": [
    {
     "name": "stdout",
     "output_type": "stream",
     "text": [
      "Word tokenization Using split function :\n"
     ]
    },
    {
     "data": {
      "text/plain": [
       "['Hello',\n",
       " 'Mr.',\n",
       " 'Smith,',\n",
       " 'how',\n",
       " 'are',\n",
       " 'you',\n",
       " 'doing',\n",
       " 'today?',\n",
       " 'The',\n",
       " 'weather',\n",
       " 'is',\n",
       " 'great,',\n",
       " 'and\\nPython',\n",
       " 'is',\n",
       " 'awesome.',\n",
       " 'The',\n",
       " 'sky',\n",
       " 'is',\n",
       " 'pinkish-blue.',\n",
       " 'You',\n",
       " \"shouldn't\",\n",
       " 'eat\\ncardboard.',\n",
       " 'He',\n",
       " 'did',\n",
       " 'an',\n",
       " 'M.B.A',\n",
       " 'from',\n",
       " 'IIM',\n",
       " 'Bangalore.']"
      ]
     },
     "execution_count": 44,
     "metadata": {},
     "output_type": "execute_result"
    }
   ],
   "source": [
    "# Using split function :\n",
    "sentances = text\n",
    "print('Word tokenization Using split function :')\n",
    "# Split at ' '\n",
    "sentances = sentances.split(' ')\n",
    "sentances\n",
    "# words_in_sentences = [sentence.split(' ') for sentence in text]\n",
    "# words_in_sentences\n"
   ]
  },
  {
   "cell_type": "code",
   "execution_count": 43,
   "metadata": {},
   "outputs": [
    {
     "name": "stdout",
     "output_type": "stream",
     "text": [
      "Word tokenization Using split function :\n"
     ]
    },
    {
     "data": {
      "text/plain": [
       "['Hello Mr',\n",
       " 'Smith, how are you doing today? The weather is great, and\\nPython is awesome',\n",
       " 'The sky is pinkish-blue',\n",
       " \"You shouldn't eat\\ncardboard\",\n",
       " 'He did an M.B.A from IIM Bangalore.']"
      ]
     },
     "execution_count": 43,
     "metadata": {},
     "output_type": "execute_result"
    }
   ],
   "source": [
    "print('Word tokenization Using split function :')\n",
    "sentances = text\n",
    "# Split at '.'\n",
    "sentances = sentances.split('. ')\n",
    "sentances"
   ]
  },
  {
   "cell_type": "code",
   "execution_count": 46,
   "metadata": {},
   "outputs": [
    {
     "name": "stdout",
     "output_type": "stream",
     "text": [
      "['Hello', 'Mr', 'Smith', 'how', 'are', 'you', 'doing', 'today', 'The', 'weather', 'is', 'great', 'and', 'Python', 'is', 'awesome', 'The', 'sky', 'is', 'pinkish', 'blue', 'You', \"shouldn't\", 'eat', 'cardboard', 'He', 'did', 'an', 'M', 'B', 'A', 'from', 'IIM', 'Bangalore']\n",
      "['Hello Mr', 'Smith, how are you doing today', 'The weather is great, and\\nPython is awesome', 'The sky is pinkish-blue', \"You shouldn't eat\\ncardboard\", 'He did an M.B.A from IIM Bangalore.']\n"
     ]
    }
   ],
   "source": [
    "# Using regex : \n",
    "import re\n",
    "tokens = re.findall(\"[\\w']+\", text)\n",
    "print(tokens)\n",
    "sentences = re.compile('[.!?] ').split(text)\n",
    "print(sentences)"
   ]
  }
 ],
 "metadata": {
  "kernelspec": {
   "display_name": "Python 3",
   "language": "python",
   "name": "python3"
  },
  "language_info": {
   "codemirror_mode": {
    "name": "ipython",
    "version": 3
   },
   "file_extension": ".py",
   "mimetype": "text/x-python",
   "name": "python",
   "nbconvert_exporter": "python",
   "pygments_lexer": "ipython3",
   "version": "3.8.3"
  }
 },
 "nbformat": 4,
 "nbformat_minor": 4
}
